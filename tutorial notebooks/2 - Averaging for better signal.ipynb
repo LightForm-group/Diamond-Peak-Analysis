{
 "cells": [
  {
   "cell_type": "markdown",
   "metadata": {},
   "source": [
    "# Averaging datasets for a better signal"
   ]
  },
  {
   "cell_type": "markdown",
   "metadata": {},
   "source": [
    "Sometimes it may be desirable or necessary to average the data to improve the signal to noise ratio. This means combining a signal from multiple cakes. First we must discuss some semantics about how the cakes are organised."
   ]
  },
  {
   "cell_type": "markdown",
   "metadata": {},
   "source": [
    "Each dataset describes the intensity of a scattering image. The circular scattering image is divided into sections called \"cakes\". Each spectrum is the intesity of the cake as a function of distance from the center of the scattering image (two theta angle)\n",
    "\n",
    "<img src=\"images/cake_numbering.png\" alt=\"Illustration of cake numbering\"\n",
    "\ttitle=\"Illustration of cake numbering\" width=\"300\" />\n",
    "    \n",
    "The cakes are ordered clockwise in the source data files but no information is provided about the location of the first cake. By convention the first cake is at 90&deg; from the vertical however this may be different for your dataset and so you must provide the angle of the first cake as a parameter to this analysis."
   ]
  },
  {
   "cell_type": "code",
   "execution_count": 1,
   "metadata": {},
   "outputs": [],
   "source": [
    "first_cake_angle = 90"
   ]
  },
  {
   "cell_type": "markdown",
   "metadata": {},
   "source": [
    "In the above example image there are 36 cakes. This number is again dependent on how the user captured the data. The number of cakes in your dataset is determined autmatically from the number of columns in the input dataset.\n",
    "\n",
    "In order to improve the quality of the analysed dataset we may want to average over multiple adjacent cakes to provide a better signal. This can be done with the merge intesity function."
   ]
  },
  {
   "cell_type": "code",
   "execution_count": null,
   "metadata": {},
   "outputs": [],
   "source": []
  }
 ],
 "metadata": {
  "kernelspec": {
   "display_name": "Python 3",
   "language": "python",
   "name": "python3"
  },
  "language_info": {
   "codemirror_mode": {
    "name": "ipython",
    "version": 3
   },
   "file_extension": ".py",
   "mimetype": "text/x-python",
   "name": "python",
   "nbconvert_exporter": "python",
   "pygments_lexer": "ipython3",
   "version": "3.7.1"
  }
 },
 "nbformat": 4,
 "nbformat_minor": 2
}
