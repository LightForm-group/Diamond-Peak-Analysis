{
 "cells": [
  {
   "cell_type": "markdown",
   "metadata": {},
   "source": [
    "# Loading and fitting multiple diffraction patterns"
   ]
  },
  {
   "cell_type": "markdown",
   "metadata": {},
   "source": [
    "If a number of diffraction patterns are collected over time they can be automatically fitted and the change in peaks over time measured. The change in the positions or heights of the peaks can then be correlated to material properties. \n",
    "\n",
    "In the example files folder there is a sequence of 10 diffraction patterns which we will use for demonstation.\n",
    "\n",
    "The first thing to do is to load an `FittingExperiment` object - this contains some metadata about the expeiment and will hold one `FitSpectrum` for each diffraction pattern."
   ]
  },
  {
   "cell_type": "code",
   "execution_count": 1,
   "metadata": {},
   "outputs": [
    {
     "name": "stdout",
     "output_type": "stream",
     "text": [
      "Processing 10 diffusion patterns.\n"
     ]
    },
    {
     "name": "stderr",
     "output_type": "stream",
     "text": [
      "100%|██████████████████████████████████████████████████████████████████████████████████| 10/10 [00:00<00:00, 20.17it/s]\n"
     ]
    },
    {
     "name": "stdout",
     "output_type": "stream",
     "text": [
      "Analysis complete.\n"
     ]
    }
   ],
   "source": [
    "%matplotlib inline\n",
    "\n",
    "import sys\n",
    "sys.path.append('./..')\n",
    "\n",
    "import spectrum_fitting\n",
    "from spectrum_fitting import PeakParams, MaximumParams\n",
    "\n",
    "\n",
    "frame_time = 10\n",
    "file_stub = \"../example_data/adc_041_7Nb_NDload_700C_15mms_*\"\n",
    "first_cake_angle = 90\n",
    "cakes_to_fit = [36, 1, 2]\n",
    "peak_params = PeakParams('1', (2.8, 2.9))\n",
    "merge_cakes = True\n",
    "\n",
    "experiment = spectrum_fitting.FittingExperiment(frame_time, file_stub, first_cake_angle, \n",
    "                                                cakes_to_fit, peak_params, merge_cakes)\n",
    "\n",
    "experiment.run_analysis()"
   ]
  },
  {
   "cell_type": "code",
   "execution_count": null,
   "metadata": {},
   "outputs": [],
   "source": []
  }
 ],
 "metadata": {
  "kernelspec": {
   "display_name": "Python 3",
   "language": "python",
   "name": "python3"
  },
  "language_info": {
   "codemirror_mode": {
    "name": "ipython",
    "version": 3
   },
   "file_extension": ".py",
   "mimetype": "text/x-python",
   "name": "python",
   "nbconvert_exporter": "python",
   "pygments_lexer": "ipython3",
   "version": "3.7.1"
  }
 },
 "nbformat": 4,
 "nbformat_minor": 2
}
