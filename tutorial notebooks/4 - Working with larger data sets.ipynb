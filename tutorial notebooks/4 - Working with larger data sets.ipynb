{
 "cells": [
  {
   "cell_type": "markdown",
   "metadata": {},
   "source": [
    "# 4. Working with larger data sets\n",
    "\n",
    "This workbook uses a large sample dataset in order to more realistically simulate the set up of the analysis process from start to finish. The dataset is not included directly with this code because of its size but can be downloaded from Zenodo - https://zenodo.org/record/3630511#.XjHhJGj7SUl\n",
    "\n",
    "We assume that you have downloaded the data, unpacked it and placed it in the *example_data* folder before running this notebook.\n",
    "\n",
    "The sample analysed is a Titanium-64 Alloy (https://en.wikipedia.org/wiki/Ti-6Al-4V). The energy of the imaging beam was 89 KeV meaning a wavelength of ~0.14 Å.\n",
    "\n",
    "The spectra are sampled at a rate of 10 Hz. There are approximately 5500 frames, corresponding to an experiment approximately 9 minutes long.\n",
    "\n",
    "The experiment begins at room temperature, heats for approximately 200 seconds, is held at constant temperature for about 100 seconds. The material being analysed then undergoes a mechanical deformation for approximately 10 seconds around 340 seconds from the start of the experiment. After this is sample is then cooled back to room temperature. We expect the crystal structure of the material to be primarily hexagonal ($\\alpha$-phase) at room temperature, primarily BCC ($\\beta$-phase) and high temperature and we expect some structural change as a result of the deformation.\n",
    "\n",
    "Although in theory we could follow the evolution of the cubic and hexagonal crystals in the material by fitting only a single peak for each, we want to consider as many of the possible orientations as possible to get better statistics.\n",
    "\n",
    "We follow the beta structure by fitting peaks corresponding to the BCC Cubic Miller indices: 110, 200, 211, 220 and 310.\n",
    "\n",
    "We follow the alpha structure by fitting peaks corresponding to the hexagonal indices: 10-10, 0002, 10-11, 10-12, 11-20, 10-13, 11-22, 20-21, 0004 and 20-22.\n",
    "\n",
    "## 4.1. Calculating peak angles\n",
    "\n",
    "Bragg's law gives the angle of scattering from a crystal lattice $(\\theta)$ as a function of the radiation wavelength planes $(\\lambda)$:\n",
    "\n",
    "$$ \\lambda = 2d \\sin (\\theta) $$\n",
    "\n",
    "We have incoming radiation $(\\theta)$ of wavelength 0.14 Å. The Ti lattice constants are $a$ = 2.95 Å, $c$ = 4.68 Å.\n",
    "\n",
    "### 4.1.1. Cubic crystal symmetry\n",
    "\n",
    "For a cubic system the relation between lattice spacing and the lattice constant $(a)$ is:\n",
    "\n",
    "$$ \\frac{1}{d^2} = \\frac{h^2 + k^2 + l^2}{a^2}  $$\n",
    "\n",
    "Combining this relation with Bragg's law gives the relation between the scattering angle, radiation wavelength and lattice constant:\n",
    "\n",
    "$$ \\sin^2(\\theta) = \\frac{\\lambda^2}{4a^2}(h^2 + k^2 + l^2) $$\n",
    "\n",
    "For BCC the symmetry causes systematic absences in odd numbered hkl planes so we expect to see the 110, 200, 211, 220 and 310 peaks.\n",
    "\n",
    "The approximate $2\\theta$ scattering angles in order of increasing two theta angle are then:\n",
    "\n",
    "* 110: 3.85°\n",
    "* 200: 5.44°\n",
    "* 211: 6.66°\n",
    "* 220: 7.70°\n",
    "* 310: 8.60°\n",
    "\n",
    "### 4.1.2. Hexagonal crystal symmetry\n",
    "\n",
    "Using the Bravais-Miller system of notation for the hexagonal crystal symmetry (h, k, i, l) the relation between the lattice spacings and the lattice constants is:\n",
    "\n",
    "$$ d = \\frac{a}{\\sqrt{\\frac{4}{3}(h^2 + k^2 + hk) + \\frac{a^2}{c^2}l^2)}} $$\n",
    "\n",
    "Combining this with Bragg's law gives the relation between the scattering angle, radiation wavelength and lattice constants:\n",
    "\n",
    "$$ \\theta = \\sin^{-1} \\left( \\frac{\\lambda \\sqrt{\\frac{4}{3}(h^2 + k^2 + hk) + \\frac{a^2}{c^2}l^2)}}{2a} \\right) $$\n",
    "\n",
    "Iterating through the combinations of indices gives $2\\theta$ angles of:\n",
    "\n",
    "* 10-10: 3.14°\n",
    "* 0002: 3.43°\n",
    "* 10-11: 3.58°\n",
    "* 10-12: 4.65°\n",
    "* 11-20: 5.44°\n",
    "* 10-13: 6.03°\n",
    "* 20-20: 6.28°\n",
    "* 11-22: 6.43°\n",
    "* 20-21: 6.51°\n",
    "* 0004: 6.86°\n",
    "* 20-22: 7.16°\n",
    "\n",
    "\n",
    "## 4.2 Finding the peaks\n",
    "\n",
    "First lets take a look the diffraction pattern and see how it looks."
   ]
  },
  {
   "cell_type": "code",
   "execution_count": null,
   "metadata": {},
   "outputs": [],
   "source": [
    "%matplotlib inline\n",
    "\n",
    "from xrdfit.spectrum_fitting import PeakParams, FitSpectrum, FitExperiment\n",
    "\n",
    "spectral_data = FitSpectrum('../example_data/example_data_large/adc_065_TI64_NDload_900C_15mms_00001.dat', 90)\n",
    "spectral_data.plot_polar()"
   ]
  },
  {
   "cell_type": "markdown",
   "metadata": {},
   "source": [
    "Now plot a single spectrum"
   ]
  },
  {
   "cell_type": "code",
   "execution_count": null,
   "metadata": {},
   "outputs": [],
   "source": [
    "spectral_data.plot(1)"
   ]
  },
  {
   "cell_type": "markdown",
   "metadata": {},
   "source": [
    "Zoom in a bit."
   ]
  },
  {
   "cell_type": "code",
   "execution_count": null,
   "metadata": {},
   "outputs": [],
   "source": [
    "spectral_data.plot(1, x_range=(2.5, 10.5))"
   ]
  },
  {
   "cell_type": "markdown",
   "metadata": {},
   "source": [
    "This looks reasonable. Since this is the first spectrum at the start of the experiment we expect high intensity hexagonal peaks and weak beta peaks. Using our calculations from above we can zoom in a section at a time and assign the peaks."
   ]
  },
  {
   "cell_type": "code",
   "execution_count": null,
   "metadata": {},
   "outputs": [],
   "source": [
    "spectral_data.plot(1, x_range=(3, 4), show_points=True)"
   ]
  },
  {
   "cell_type": "markdown",
   "metadata": {},
   "source": [
    "These peaks fit with being 10-10, 0002, a weak 110 and 10-11. We should fit 0002, 110 and 10-11 as a triplet due to their proximity.\n",
    "\n",
    "The 110 is a little way off our calculated value - about 8% lower than expected. This is due to alloying - inclusion of Vanadium in the beta phase. This is a constant percentage offset so we modify our original estimates of the peak positions to:\n",
    "\n",
    "* 110: 3.55°\n",
    "* 200: 5.01°\n",
    "* 211: 6.13°\n",
    "* 220: 7.08°\n",
    "* 310: 7.92°\n",
    "\n",
    "We can quickly plot the peak params to check they are OK, then do the fits and check the fit results."
   ]
  },
  {
   "cell_type": "code",
   "execution_count": null,
   "metadata": {},
   "outputs": [],
   "source": [
    "peak_params = [PeakParams('(10-10)', (3.02, 3.27)),\n",
    "               PeakParams('(0002)(110)(10-11)',  (3.3, 3.75), [(3.4, 3.44), (3.52, 3.56), (3.57, 3.61)])]\n",
    "\n",
    "spectral_data.plot_peak_params(peak_params, 1, show_points=True)\n",
    "\n",
    "spectral_data.fit_peaks(peak_params, 1)\n",
    "spectral_data.plot_fit('(10-10)')\n",
    "spectral_data.plot_fit('(0002)(110)(10-11)')"
   ]
  },
  {
   "cell_type": "markdown",
   "metadata": {},
   "source": [
    "That looks reasonable. Now on to the next section of the spectrum."
   ]
  },
  {
   "cell_type": "code",
   "execution_count": null,
   "metadata": {},
   "outputs": [],
   "source": [
    "spectral_data.plot(1, x_range=(4.4, 5.8), show_points=True)"
   ]
  },
  {
   "cell_type": "markdown",
   "metadata": {},
   "source": [
    "These are in the right positions for 10-12, 200 and 11-20.These area ll distinct enough to be fitted as singlets. Again lets quickly plot the fits to check they are OK."
   ]
  },
  {
   "cell_type": "code",
   "execution_count": null,
   "metadata": {},
   "outputs": [],
   "source": [
    "peak_params = [PeakParams('(10-12)', (4.54, 4.8)),\n",
    "               PeakParams('(200)', (4.9, 5.10)),\n",
    "               PeakParams('(11-20)', (5.35, 5.6))]\n",
    "\n",
    "spectral_data.fit_peaks(peak_params, 1)\n",
    "for fit in spectral_data.fitted_peaks:\n",
    "    fit.plot()"
   ]
  },
  {
   "cell_type": "markdown",
   "metadata": {},
   "source": [
    "Now moving up to the next section of the spectrum"
   ]
  },
  {
   "cell_type": "code",
   "execution_count": null,
   "metadata": {},
   "outputs": [],
   "source": [
    "spectral_data.plot(1, x_range=(5.75, 7.5), show_points=True)"
   ]
  },
  {
   "cell_type": "markdown",
   "metadata": {},
   "source": [
    "The first peak is the hexagonal 10-13. Going with our revised estimates for the cubic structures the small peak at 6.1° must be the 211. The next four strong peaks then correspond to 20-20, 11-22, 20-21 and 0004 in ascending order. There is then a weak peak for the cubic 220 and 20-22 is at about 7.2°. We probably dont need the fit for the 20-22 peak as we have got enough hexagonal peaks at this point. However in order to get the 220 peak we still need to include the 20-22 as the peaks are so close that we wont be able to reliably 220 as a singlet.\n",
    "\n",
    "With the proximity of these peaks, they would be probably be good to fit as a doublet, singlet, doublet and singlet and then doublet."
   ]
  },
  {
   "cell_type": "code",
   "execution_count": null,
   "metadata": {},
   "outputs": [],
   "source": [
    "peak_params = [PeakParams('(10-13)(211)', (5.9, 6.25), [(6.00, 6.05), (6.10, 6.15)]),\n",
    "               PeakParams('(20-20)', (6.21, 6.4)),\n",
    "               PeakParams('(11-22)(20-21)',  (6.37, 6.71), [(6.43, 6.47), (6.52, 6.56)]),\n",
    "               PeakParams('(0004)',  (6.75, 6.95), [(6.82, 6.87)]),\n",
    "               PeakParams('(220)(20-22)', (6.95, 7.35), [(7.05, 7.12), (7.16, 7.20)])]\n",
    "\n",
    "spectral_data.plot_peak_params(peak_params, 1, show_points=True)\n",
    "\n",
    "spectral_data.fit_peaks(peak_params, 1)\n",
    "for fit in spectral_data.fitted_peaks:\n",
    "    fit.plot()"
   ]
  },
  {
   "cell_type": "markdown",
   "metadata": {},
   "source": [
    "It would be good to try and get another peak for the cubic phase - we should see if we can find the 310 peak."
   ]
  },
  {
   "cell_type": "code",
   "execution_count": null,
   "metadata": {},
   "outputs": [],
   "source": [
    "spectral_data.plot(1, x_range=(7.3, 8.1), show_points=True)"
   ]
  },
  {
   "cell_type": "markdown",
   "metadata": {},
   "source": [
    "The first peak is probably 10-14, we will ignore this as we have enough hexagonal peaks and just try to get the very small 310 peak."
   ]
  },
  {
   "cell_type": "code",
   "execution_count": null,
   "metadata": {},
   "outputs": [],
   "source": [
    "peak_params = [PeakParams('(310)', (7.75, 8.05))]\n",
    "\n",
    "spectral_data.fit_peaks(peak_params, 1)\n",
    "for fit in spectral_data.fitted_peaks:\n",
    "    fit.plot()"
   ]
  },
  {
   "cell_type": "markdown",
   "metadata": {},
   "source": [
    "It's not a great fit because the peak intensity is so low but when the percentage of beta phase increases later in the experiment the fit should be better.\n",
    "\n",
    "Lets put all these peak params together and do a time fit.\n",
    "\n",
    "## 4.3 Time fitting\n",
    "\n",
    "### 4.3.1. Initial fit attempt\n",
    "\n",
    "Lets start by fitting these peaks in every 100th frame to check the fits are OK before fitting the full data set.\n",
    "\n",
    "In this case I choose to reuse the fits when running the fits. Reusing the fits can cause problems if there is a significant difference between frames but can be faster if the fits are similar from frame to frame. It is best to try with and without and see which is quicker!\n",
    "\n",
    "In this case reusing the fits is quicker because some of the triplet fits have close peaks with very different magnitudes so it is hard for the parameter guessing algorithm to guess good initial parameters to get the inflection point between them."
   ]
  },
  {
   "cell_type": "code",
   "execution_count": null,
   "metadata": {},
   "outputs": [],
   "source": [
    "frame_time = 0.1\n",
    "file_string = '../example_data/example_data_large/adc_065_TI64_NDload_900C_15mms_{:05d}.dat'\n",
    "first_cake_angle = 90\n",
    "cakes_to_fit = 1\n",
    "peak_params = [PeakParams('(10-10)', (3.02, 3.27)),\n",
    "               PeakParams('(0002)(110)(10-11)',  (3.3, 3.75), [(3.4, 3.44), (3.52, 3.56), (3.57, 3.61)]),\n",
    "               PeakParams('(10-12)', (4.54, 4.8)),\n",
    "               PeakParams('(200)', (4.9, 5.10)),\n",
    "               PeakParams('(11-20)', (5.35, 5.6)),\n",
    "               PeakParams('(10-13)(211)', (5.9, 6.25), [(6.00, 6.05), (6.10, 6.15)]),\n",
    "               PeakParams('(20-20)', (6.21, 6.4)),\n",
    "               PeakParams('(11-22)(20-21)',  (6.37, 6.71), [(6.43, 6.47), (6.52, 6.56)]),\n",
    "               PeakParams('(0004)',  (6.75, 6.95), [(6.82, 6.87)]),\n",
    "               PeakParams('(220)(20-22)', (6.95, 7.35), [(7.05, 7.12), (7.16, 7.20)]),\n",
    "               PeakParams('(310)', (7.75, 8.05))\n",
    "              ]\n",
    "max_frame = 5657\n",
    "merge_cakes = False\n",
    "frames_to_fit = range(1, max_frame, 100)\n",
    "experiment = FitExperiment(frame_time, file_string,first_cake_angle, cakes_to_fit, peak_params, merge_cakes, frames_to_fit)\n",
    "\n",
    "experiment.run_analysis(reuse_fits=True)"
   ]
  },
  {
   "cell_type": "markdown",
   "metadata": {},
   "source": [
    "You may have noticed that the progress bar does not fill linearly. For some time steps the fitting stalls a little. This is because the initial parameters are closer to the final parameters at some time points compared to others. If the fit is complex or some of the maxima intensities are low, many iterations of the fitting minimiser may required to get a good fit. This isn't necessarily a problem but excessive stalling can be indicative of poor initial parameters.\n",
    "\n",
    "After the fitting algorithm completes, if there are any peak fits which required more than 500 minimisation steps, they are highlighted in a report. These points should be checked in particular to see if there was a problem with the fitting. If you find that this report flags too many false positives you can increase the number of minimisation steps that triggers the report by providing the `evaluation_threshold` parameter to the `run_analysis` function.\n",
    "\n",
    "In this case there are 5 peaks which the fitting has had trouble with at some point in the fitting process. The (0002)(110)(10-11), (20-20) and (11-22)(20-21) peaks only have 1 or 2 slow fits each so they are probably nothing to worry about. However, the (10-13)(211) and (220)(20-22) peaks have multiple slow fits - these are probably worth checking.\n",
    "\n",
    "### 4.3.2 Refining the \"(10-13)(211)\" peak\n",
    "\n",
    "Lets look at the (10-13)(211) peak first. First we can look at the fit parameters to see if there is anything unusual."
   ]
  },
  {
   "cell_type": "code",
   "execution_count": null,
   "metadata": {},
   "outputs": [],
   "source": [
    "experiment.plot_fit_parameter(\"(10-13)(211)\", \"maximum_1_center\", show_points=True)\n",
    "experiment.plot_fit_parameter(\"(10-13)(211)\", \"maximum_1_height\", show_points=True)\n",
    "experiment.plot_fit_parameter(\"(10-13)(211)\", \"maximum_2_center\", show_points=True)\n",
    "experiment.plot_fit_parameter(\"(10-13)(211)\", \"maximum_2_height\", show_points=True)"
   ]
  },
  {
   "cell_type": "markdown",
   "metadata": {},
   "source": [
    "There is definitely something wrong here. The error bars are all over the place and the parameters dont change smoothly over time. \n",
    "\n",
    "If there is no error estimate available for a parameter, the data point on the graph is shown as a triangle. The lack of an error estimate may indicate a problem with the fit but not necessarily. The error estimate is made by inverting the curvature matrix of the fit. This will not work if changing the parameter does not significantly affect the fitting result or if changing the parameter results in an evaluation error.\n",
    "\n",
    "In this case the fits for both maxima look poor so there is probably something obviously wrong with the fits. We can plot the fits directly to see what they look like."
   ]
  },
  {
   "cell_type": "code",
   "execution_count": null,
   "metadata": {},
   "outputs": [],
   "source": [
    "experiment.plot_fits(peak_names=[\"(10-13)(211)\"], num_timesteps=20)"
   ]
  },
  {
   "cell_type": "markdown",
   "metadata": {},
   "source": [
    "We can see that although the 211 peak is present at the beginning of the experiment it disappears entirely on heating and doesnt reappear later in the experiment. The doublet fit is still trying to fit two peaks however even though there is one and this breaks the fit.\n",
    "\n",
    "In this case it is probably better to ignore the 211 peak entirely as is disappears very quickly and we cant get much information out of it. Since the 211 peak is so small, 10-13 peak should be fine to fit on its own as a singlet.\n",
    "\n",
    "If we wanted to try and get some more information from the 211 peak it would be best to do this as a separate fit experiment for just this peak and a limited subset of the total frames.\n",
    "\n",
    "### 4.3.3 Refining the \"(220)(20-22)\" peak\n",
    "\n",
    "Lets plot the parameters for the (220)(20-22) peak first: "
   ]
  },
  {
   "cell_type": "code",
   "execution_count": null,
   "metadata": {},
   "outputs": [],
   "source": [
    "experiment.plot_fit_parameter(\"(220)(20-22)\", \"maximum_1_center\", show_points=True)\n",
    "experiment.plot_fit_parameter(\"(220)(20-22)\", \"maximum_1_height\", show_points=True)\n",
    "experiment.plot_fit_parameter(\"(220)(20-22)\", \"maximum_2_center\", show_points=True)\n",
    "experiment.plot_fit_parameter(\"(220)(20-22)\", \"maximum_2_height\", show_points=True)"
   ]
  },
  {
   "cell_type": "markdown",
   "metadata": {},
   "source": [
    "The 220 peak looks fine but it is the 20-22 that is struggling. Lets plot the fits to see why."
   ]
  },
  {
   "cell_type": "code",
   "execution_count": null,
   "metadata": {},
   "outputs": [],
   "source": [
    "experiment.plot_fits(peak_names=[\"(220)(20-22)\"], num_timesteps = 30)"
   ]
  },
  {
   "cell_type": "markdown",
   "metadata": {},
   "source": [
    "There are a few things going on here. From frame 5 to 15 there is a small peak which appears to the left of the fit, this likely confuses the baseline slightly. We cant exclude this however because bringing the peak bounds in would result in one of 220 or 20-22 falling off the edge of the fit later in the experiment when they get further apart.\n",
    "\n",
    "From frame 20 to 35 the 20-22 peak disappears almost completely. This is OK and the peak is picked up again when it reappears about frame 35 but we should note the the errors on these parameters for these frames are likely to be very large.\n",
    "\n",
    "Also at various points in the fit the intensities of the peaks are very low, with a signal to noise (peak height divided by baseline noise) of only around 1.5. Anywhere where the peak height is not far above the noise the fitting will struggle a little. This is to be expected and just requires treating the resultant parameters with care.\n",
    "\n",
    "There is nothing as such we can do to improve these fits here. Perhaps if these peaks were important they could be fitted separately in a new `FitExperiment` instance, reducing the number of time steps and adjusting the starting parameters. This might seem a little awkward but `xrdfit` is not really designed to provide high quality fits for peaks with a low signal to noise - it is more designed for high throughput analysis of clearer peaks.\n",
    "\n",
    "### 4.3.4. Implementing the refinements\n",
    "\n",
    "Lets remove the 211 peak and try the fit again. Lets also analyse more frames to increase the data resolution for later analysis. As we increase the frequency of frames the average fit time per spectrum will likely decrease slightly if reuse fits is turned on. Since each frame will differ less from the previous frame the final parameters from the previous fit will be closer to the final parameters of the next fit."
   ]
  },
  {
   "cell_type": "code",
   "execution_count": null,
   "metadata": {},
   "outputs": [],
   "source": [
    "peak_params = [PeakParams('(10-10)', (3.02, 3.27)),\n",
    "               PeakParams('(0002)(110)(10-11)',  (3.3, 3.75), [(3.4, 3.44), (3.52, 3.56), (3.57, 3.61)]),\n",
    "               PeakParams('(10-12)', (4.54, 4.8)),\n",
    "               PeakParams('(200)', (4.9, 5.10)),\n",
    "               PeakParams('(11-20)', (5.35, 5.6)),\n",
    "               PeakParams('(10-13)', (5.9, 6.15), [(6.00, 6.05)]),\n",
    "               PeakParams('(20-20)', (6.21, 6.4)),\n",
    "               PeakParams('(11-22)(20-21)',  (6.37, 6.71), [(6.43, 6.47), (6.52, 6.56)]),\n",
    "               PeakParams('(0004)',  (6.75, 6.95), [(6.82, 6.87)]),\n",
    "               PeakParams('(220)(20-22)', (6.95, 7.35), [(7.05, 7.12), (7.16, 7.20)]),\n",
    "               PeakParams('(310)', (7.75, 8.05))\n",
    "              ]\n",
    "max_frame = 5657\n",
    "frames_to_fit = range(1, max_frame, 30)\n",
    "experiment = FitExperiment(frame_time, file_string, first_cake_angle, cakes_to_fit, peak_params, merge_cakes, frames_to_fit)\n",
    "\n",
    "experiment.run_analysis(reuse_fits=True)"
   ]
  },
  {
   "cell_type": "markdown",
   "metadata": {},
   "source": [
    "The (10-13) peak is now reporting no fits with many iterations. Notice that the analysis also runs quicker when poor fits are improved. The 200 peak is now having a little trouble however so these fits should likely be examined.\n",
    "\n",
    "For a more detailed report which specifies which peaks took the longest to fit you can run the fit report again in detailed mode. This can be useful if the fitting is too slow and you want to identify which peak in particular is taking all of the processing time. Each time `FitExperiment.run_analysis` is run, it generates a `FitReport`. This can be printed with the `print` method."
   ]
  },
  {
   "cell_type": "code",
   "execution_count": null,
   "metadata": {},
   "outputs": [],
   "source": [
    "experiment.fit_report.print(detailed=True)"
   ]
  },
  {
   "cell_type": "markdown",
   "metadata": {},
   "source": [
    "For the purposes of this tutorial we now say that we are happy with these fits and proceed do some science with the fits.\n",
    "\n",
    "## 4.4. Doing some science\n",
    "\n",
    "The whole point of the fitting is to use the fitting parameters as part of an analysis to do some science. Here we will show some brief examples of how an analysis might be done. This is not a complete and thorough analysis of this dataset, but serves to show an example of how the fits can be used.\n",
    "\n",
    "First lets read in some supplementary experimental data. This is found in the in \"example_data/instrument_data/065_ETMT_analogue_output.dat\". This data file has direct instrument voltages from sensors during the experiment where the data was taken at the same rate as the spectra. The data columns correspond to frame number, temperature, imposed load and resultant sample deformation. Since the data are voltages we must scale them using the calibration from the sensors to get the real values.\n",
    "\n",
    "The scaling for the temperature data is 150°C V$^{-1}$, the imposed strain data is 25 N V$^{-1}$ and the resultant deformation is scaled as 0.5 mm V$^{-1}$"
   ]
  },
  {
   "cell_type": "code",
   "execution_count": null,
   "metadata": {},
   "outputs": [],
   "source": [
    "import numpy as np\n",
    "import matplotlib.pyplot as plt\n",
    "\n",
    "instrument_data = np.loadtxt(\"../example_data/instrument_data/065_ETMT_data.txt\", skiprows=6)\n",
    "load = instrument_data[:, 1] * 25\n",
    "temperature = instrument_data[:, 2] * 150\n",
    "deformation = instrument_data[:, 3] * 0.5\n",
    "\n",
    "# Convert frame number to time - data is collected at 10 Hz\n",
    "instrument_data[:, 0] = instrument_data[:, 0] / 10\n",
    "\n",
    "plt.plot(instrument_data[:, 0], temperature)\n",
    "plt.xlabel(\"Time (s)\")\n",
    "plt.ylabel(\"Temperature (°C)\")\n",
    "plt.show()\n",
    "\n",
    "plt.plot(instrument_data[:, 0], load)\n",
    "plt.xlabel(\"Time (s)\")\n",
    "plt.ylabel(\"Load (N)\")\n",
    "plt.show()\n",
    "\n",
    "plt.plot(instrument_data[:, 0], deformation)\n",
    "plt.xlabel(\"Time (s)\")\n",
    "plt.ylabel(\"Sample deformation (mm)\")\n",
    "plt.show()"
   ]
  },
  {
   "cell_type": "markdown",
   "metadata": {},
   "source": [
    "From this data we can see the sequence of the experiment, there is a heating stage, a steady state at high temperature, a deformation and a cooling stage.\n",
    "\n",
    "We can now plot our fitted peak data along with the experimental data to see how the crystal structure changed during the experiment. Let's try and get the ratio of hexagonal to cubic crystals (alpha to beta phase). We can use the (10-11) maxima to represent the alpha phase and the (110) maxima to represent the beta phase."
   ]
  },
  {
   "cell_type": "code",
   "execution_count": null,
   "metadata": {},
   "outputs": [],
   "source": [
    "experiment.plot_fit_parameter(\"(0002)(110)(10-11)\", \"maximum_3_center\", show_points=True)\n",
    "experiment.plot_fit_parameter(\"(0002)(110)(10-11)\", \"maximum_3_amplitude\", show_points=True)"
   ]
  },
  {
   "cell_type": "markdown",
   "metadata": {},
   "source": [
    "We can see that the angle of the 10-11 peak shifted down with increasing temperature (due to the increase in lattice spacing with thermal energy) and decreased in amplitude - getting quite small during the high temperature section of the experiment."
   ]
  },
  {
   "cell_type": "code",
   "execution_count": null,
   "metadata": {},
   "outputs": [],
   "source": [
    "experiment.plot_fit_parameter('(0002)(110)(10-11)', \"maximum_2_center\", show_points=True) \n",
    "experiment.plot_fit_parameter('(0002)(110)(10-11)', \"maximum_2_amplitude\", show_points=True) "
   ]
  },
  {
   "cell_type": "markdown",
   "metadata": {},
   "source": [
    "The 110 peak, shows matching trends, the peak position shifts down a little and the amplitude greatly increases. Here we see the hexagonal $(\\alpha)$ structure being transformed to the cubic $(\\beta)$ structure.\n",
    "\n",
    "To a first order approximation we could calculate the ratio of the $\\alpha$ to $\\beta$ phase by considering the ratio of peak amplitudes. This is not quite correct because there is also a decrease in peak amplitude with increasing two theta angle and the peaks dont have the same two theta angle. We would also probably like to take an average from multiple peaks too but this will give us a rough idea."
   ]
  },
  {
   "cell_type": "code",
   "execution_count": null,
   "metadata": {},
   "outputs": [],
   "source": [
    "alpha_amplitude = experiment.get_fit_parameter(\"(0002)(110)(10-11)\", \"maximum_1_amplitude\")\n",
    "beta_amplitude = experiment.get_fit_parameter(\"(0002)(110)(10-11)\", \"maximum_2_amplitude\")\n",
    "percentage_alpha = alpha_amplitude[:, 1] / (alpha_amplitude[:, 1] + beta_amplitude[:, 1])\n",
    "\n",
    "import matplotlib.pyplot as plt\n",
    "plt.plot(alpha_amplitude[:, 0], percentage_alpha, \"-x\")\n",
    "plt.ylabel(\"Fraction alpha phase\")\n",
    "plt.xlabel(\"Time (s)\")\n",
    "plt.show()"
   ]
  },
  {
   "cell_type": "markdown",
   "metadata": {},
   "source": [
    "Now lets put the phase ratio together with the instrument data to see the correlation."
   ]
  },
  {
   "cell_type": "code",
   "execution_count": null,
   "metadata": {},
   "outputs": [],
   "source": [
    "fig, ax1 = plt.subplots()\n",
    "ax1.plot(alpha_amplitude[:, 0], percentage_alpha, \"-x\")\n",
    "ax1.set_ylabel(\"Fraction alpha phase\")\n",
    "ax1.set_xlabel(\"Time (s)\")\n",
    "\n",
    "ax2 = ax1.twinx()  # instantiate a second axes that shares the same x-axis\n",
    "\n",
    "ax2.set_ylabel('Temperature (°C)')\n",
    "ax2.plot(instrument_data[:, 0], temperature, color=\"green\")\n",
    "ax2.tick_params(axis='y')\n",
    "\n",
    "fig.tight_layout() \n",
    "plt.show()"
   ]
  },
  {
   "cell_type": "markdown",
   "metadata": {},
   "source": [
    "As expected we can see the change in crystal structure is strongly related to the temperature. We also want to know about the deformation though as we can see this distinct from the temperature change between 3000 and 400 seconds. We can plot the deformation, temperature and crystal ratio on the same plot to see them all together:\n",
    "\n",
    "(This dual axis plot is taken from the example at: https://matplotlib.org/examples/pylab_examples/multiple_yaxis_with_spines.html)\n"
   ]
  },
  {
   "cell_type": "code",
   "execution_count": null,
   "metadata": {},
   "outputs": [],
   "source": [
    "def make_patch_spines_invisible(ax):\n",
    "    ax.set_frame_on(True)\n",
    "    ax.patch.set_visible(False)\n",
    "    for sp in ax.spines.values():\n",
    "        sp.set_visible(False)\n",
    "\n",
    "fig, host = plt.subplots()\n",
    "fig.subplots_adjust(right=1)\n",
    "\n",
    "par1 = host.twinx()\n",
    "par2 = host.twinx()\n",
    "\n",
    "par2.spines[\"right\"].set_position((\"axes\", 1.2))\n",
    "make_patch_spines_invisible(par2)\n",
    "par2.spines[\"right\"].set_visible(True)\n",
    "\n",
    "p1, = host.plot(alpha_amplitude[:, 0], percentage_alpha, \"-x\", label=\"Fraction alpha phase\")\n",
    "p2, = par1.plot(instrument_data[:, 0], temperature, \"-\", label=\"Temperature\", color=\"green\")\n",
    "p3, = par2.plot(instrument_data[:, 0], deformation, \"-\", label=\"Deformation\", color=\"red\")\n",
    "\n",
    "host.set_xlim(250, 400)\n",
    "host.set_ylim(0, 0.6)\n",
    "par1.set_ylim(500, 1000)\n",
    "\n",
    "host.set_xlabel(\"Time (s)\")\n",
    "host.set_ylabel(\"Fraction alpha phase\")\n",
    "par1.set_ylabel(\"Temperature (°C)\")\n",
    "par2.set_ylabel(\"Deformation (mm)\")\n",
    "host.yaxis.label.set_color(p1.get_color())\n",
    "par1.yaxis.label.set_color(p2.get_color())\n",
    "par2.yaxis.label.set_color(p3.get_color())\n",
    "\n",
    "tkw = dict(size=4, width=1.5)\n",
    "host.tick_params(axis='y', colors=p1.get_color(), **tkw)\n",
    "par1.tick_params(axis='y', colors=p2.get_color(), **tkw)\n",
    "par2.tick_params(axis='y', colors=p3.get_color(), **tkw)\n",
    "host.tick_params(axis='x', **tkw)\n",
    "\n",
    "host.axvline(x=3160, ymin=0, ymax=1, lw=1, ls=\"--\", color=\"k\")\n",
    "host.axvline(x=3360, ymin=0, ymax=1, lw=1, ls=\"--\", color=\"k\")\n",
    "\n",
    "lines = [p1, p2, p3]\n",
    "\n",
    "host.legend(lines, [l.get_label() for l in lines], bbox_to_anchor=(2, 1.0))\n",
    "\n",
    "plt.show()"
   ]
  },
  {
   "cell_type": "markdown",
   "metadata": {},
   "source": [
    "The start and end of the deformation are marked by the dashed lines.\n",
    "We can see that although there is some change in the crystal structure, it isn't as simple as the temperature relationship where hexagonal crystals are converted directly to cubic crystals.\n",
    "\n",
    "We conclude the analysis here since this workbook isn't meant to be about the science as such, however this shows how the fitted parameters can be extracted to complete an analysis."
   ]
  }
 ],
 "metadata": {
  "kernelspec": {
   "display_name": "Python 3",
   "language": "python",
   "name": "python3"
  },
  "language_info": {
   "codemirror_mode": {
    "name": "ipython",
    "version": 3
   },
   "file_extension": ".py",
   "mimetype": "text/x-python",
   "name": "python",
   "nbconvert_exporter": "python",
   "pygments_lexer": "ipython3",
   "version": "3.7.1"
  },
  "pycharm": {
   "stem_cell": {
    "cell_type": "raw",
    "source": [],
    "metadata": {
     "collapsed": false
    }
   }
  }
 },
 "nbformat": 4,
 "nbformat_minor": 2
}