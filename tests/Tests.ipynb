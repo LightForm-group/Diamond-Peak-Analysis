{
 "cells": [
  {
   "cell_type": "markdown",
   "metadata": {},
   "source": [
    "This notebook contains some tests to see whether the fitting algorithm works reasonably well across a range of different peak shapes and sizes. The test datasets are read from the test folder. Each test file contains a single cake with the peak or peaks in it."
   ]
  },
  {
   "cell_type": "code",
   "execution_count": null,
   "metadata": {},
   "outputs": [],
   "source": [
    "%matplotlib inline\n",
    "\n",
    "%load_ext autoreload\n",
    "\n",
    "%autoreload 2\n",
    "\n",
    "import sys\n",
    "sys.path.append('./..')\n",
    "\n",
    "from glob import glob\n",
    "\n",
    "import spectrum_fitting\n",
    "from spectrum_fitting import PeakParams"
   ]
  },
  {
   "cell_type": "code",
   "execution_count": null,
   "metadata": {},
   "outputs": [],
   "source": [
    "test_files = glob(\"**/*.txt\", recursive=True)\n",
    "print(test_files)"
   ]
  },
  {
   "cell_type": "code",
   "execution_count": null,
   "metadata": {},
   "outputs": [],
   "source": [
    "for file_path in test_files:\n",
    "    spectral_data = spectrum_fitting.FitSpectrum(file_path, 90, verbose=False)\n",
    "    spectral_data.plot(1, show_points=True)"
   ]
  },
  {
   "cell_type": "code",
   "execution_count": null,
   "metadata": {},
   "outputs": [],
   "source": [
    "for file_path in test_files:\n",
    "    spectral_data = spectrum_fitting.FitSpectrum(file_path, 90, verbose=False)\n",
    "    peak_params = spectral_data.detect_peaks(1)\n",
    "    spectral_data.plot_peak_params(peak_params, 1)"
   ]
  },
  {
   "cell_type": "code",
   "execution_count": null,
   "metadata": {},
   "outputs": [],
   "source": []
  }
 ],
 "metadata": {
  "kernelspec": {
   "display_name": "Python 3",
   "language": "python",
   "name": "python3"
  },
  "language_info": {
   "codemirror_mode": {
    "name": "ipython",
    "version": 3
   },
   "file_extension": ".py",
   "mimetype": "text/x-python",
   "name": "python",
   "nbconvert_exporter": "python",
   "pygments_lexer": "ipython3",
   "version": "3.7.2"
  }
 },
 "nbformat": 4,
 "nbformat_minor": 2
}
